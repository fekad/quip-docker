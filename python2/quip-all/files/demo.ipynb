{
 "cells": [
  {
   "cell_type": "markdown",
   "metadata": {},
   "source": [
    "# Vacancy formation energy\n",
    "\n",
    "Using the iron GAP, calcualte the vacancy formation energy in a 3x3x3 supercell."
   ]
  },
  {
   "cell_type": "code",
   "execution_count": null,
   "metadata": {
    "collapsed": true
   },
   "outputs": [],
   "source": [
    "from __future__ import print_function\n",
    "\n",
    "# stdlib\n",
    "import os\n",
    "\n",
    "# non-stdlib\n",
    "import ase\n",
    "import numpy as np\n",
    "from ase.build import bulk\n",
    "from ase.constraints import UnitCellFilter\n",
    "from ase.optimize import LBFGS\n",
    "# Use quippy for GAP iron model\n",
    "from quippy import Potential"
   ]
  },
  {
   "cell_type": "code",
   "execution_count": null,
   "metadata": {
    "collapsed": true
   },
   "outputs": [],
   "source": [
    "%matplotlib inline"
   ]
  },
  {
   "cell_type": "code",
   "execution_count": null,
   "metadata": {
    "collapsed": true
   },
   "outputs": [],
   "source": [
    "# primitive cell and bulk with a vacancy\n",
    "lattice_constant = 2.84\n",
    "\n",
    "prim = bulk('Fe', a=lattice_constant)\n",
    "vacancy = (bulk('Fe', a=lattice_constant, cubic=True) * (3, 3, 3))[:-1]"
   ]
  },
  {
   "cell_type": "code",
   "execution_count": null,
   "metadata": {
    "collapsed": true
   },
   "outputs": [],
   "source": [
    "# Initialise the GAP\n",
    "cwd = os.getcwd()\n",
    "\n",
    "try:\n",
    "    os.chdir('/opt/share/potentials/GAP/Iron/gp33b/')\n",
    "    fe_gap = Potential(\"IP GAP\", param_filename='gp33b.xml')\n",
    "finally:\n",
    "    os.chdir(cwd)"
   ]
  },
  {
   "cell_type": "code",
   "execution_count": null,
   "metadata": {},
   "outputs": [],
   "source": [
    "# Use primitive cell as the zero energy\n",
    "prim.set_calculator(fe_gap)\n",
    "\n",
    "ucf = UnitCellFilter(prim)\n",
    "opt = LBFGS(ucf)\n",
    "opt.run(fmax=0.0001)\n",
    "\n",
    "e_prim = prim.get_potential_energy()\n",
    "v_prim = prim.get_volume()"
   ]
  },
  {
   "cell_type": "code",
   "execution_count": null,
   "metadata": {},
   "outputs": [],
   "source": [
    "# Optimise positions at each volume point\n",
    "vacancy.set_calculator(fe_gap)\n",
    "\n",
    "volumes = []\n",
    "energies = []\n",
    "\n",
    "for cell_a in np.linspace(vacancy.cell[0][0]*0.98, vacancy.cell[0][0]*1.02, 7):\n",
    "    vacancy.set_cell((cell_a, cell_a, cell_a), scale_atoms=True)\n",
    "    opt = LBFGS(vacancy)\n",
    "    opt.run(fmax=0.001)\n",
    "    volumes.append(vacancy.get_volume())\n",
    "    energies.append(vacancy.get_potential_energy())"
   ]
  },
  {
   "cell_type": "code",
   "execution_count": null,
   "metadata": {},
   "outputs": [],
   "source": [
    "from ase.eos import EquationOfState\n",
    "eos = EquationOfState(volumes, [e - len(vacancy) * e_prim for e in energies])\n",
    "from ase.units import GPa\n",
    "\n",
    "v0, e0, B = eos.fit()\n",
    "print('Bulk modulus:              {:9.3f} GPa'.format(B / GPa))\n",
    "print('Vacancy formation energy:  {:9.3f} eV'.format(e0))\n",
    "print('Vacancy volume:            {:9.3f} A³'.format(v0 - 53*v_prim))\n",
    "eos.plot()"
   ]
  },
  {
   "cell_type": "code",
   "execution_count": null,
   "metadata": {
    "collapsed": true
   },
   "outputs": [],
   "source": []
  }
 ],
 "metadata": {
  "kernelspec": {
   "display_name": "Python 2",
   "language": "python",
   "name": "python2"
  },
  "language_info": {
   "codemirror_mode": {
    "name": "ipython",
    "version": 2
   },
   "file_extension": ".py",
   "mimetype": "text/x-python",
   "name": "python",
   "nbconvert_exporter": "python",
   "pygments_lexer": "ipython2",
   "version": "2.7.13"
  }
 },
 "nbformat": 4,
 "nbformat_minor": 2
}
